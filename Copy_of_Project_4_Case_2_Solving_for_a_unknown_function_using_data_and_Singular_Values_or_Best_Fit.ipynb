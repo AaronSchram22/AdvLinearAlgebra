{
  "nbformat": 4,
  "nbformat_minor": 0,
  "metadata": {
    "colab": {
      "name": "Copy of Project 4:  Case 2 - Solving for a unknown function using data and Singular Values or Best Fit.ipynb",
      "provenance": [],
      "include_colab_link": true
    },
    "kernelspec": {
      "name": "python3",
      "display_name": "Python 3"
    }
  },
  "cells": [
    {
      "cell_type": "markdown",
      "metadata": {
        "id": "view-in-github",
        "colab_type": "text"
      },
      "source": [
        "<a href=\"https://colab.research.google.com/github/AaronSchram22/AdvLinearAlgebra/blob/master/Copy_of_Project_4_Case_2_Solving_for_a_unknown_function_using_data_and_Singular_Values_or_Best_Fit.ipynb\" target=\"_parent\"><img src=\"https://colab.research.google.com/assets/colab-badge.svg\" alt=\"Open In Colab\"/></a>"
      ]
    },
    {
      "cell_type": "code",
      "metadata": {
        "id": "Hn3gRnB-WZRA",
        "colab_type": "code",
        "colab": {}
      },
      "source": [
        "#  Libraries that we'll need:\n",
        "import numpy as np\n",
        "import sympy as sym\n",
        "#from scipy import misc\n",
        "from scipy import linalg\n",
        "#from PIL import Image\n",
        "#import imageio\n",
        "import matplotlib.pyplot as plt\n",
        "# importing \"random\" for random operations \n",
        "import random "
      ],
      "execution_count": 0,
      "outputs": []
    },
    {
      "cell_type": "markdown",
      "metadata": {
        "id": "M_EHZduVWm9l",
        "colab_type": "text"
      },
      "source": [
        "#  Singular Value Decomposition and Best Fit\n",
        "\n",
        "We look at some data generated here from three sources:\n",
        "\n",
        "*   Case 0:  A known polynomial function $f(x) = 4 - 3x^2 + 5x^6$\n",
        "*   Case 1:  A known trigonometric function $f(x) = 4 - 2\\cos(x) + \\cos^2 (x)$\n",
        "*   Case 2:  A matrix of data $M$ (specified below) with unknown source function\n",
        "*   Case 3:  An interesting case."
      ]
    },
    {
      "cell_type": "markdown",
      "metadata": {
        "id": "9ORrgx3nWz_D",
        "colab_type": "text"
      },
      "source": [
        "# Overview for Case 2:  Best-fit polynomial of degree 3 from data of unknown source\n",
        "\n",
        "In this situation, the data for the underlying function has already been gathered, and is stored in the matrix *givenData*.  This matrix contains two columns.  The first is an x-coordinate, and the second is an output value.\n",
        "\n",
        "The data in the matrix came from an unknown underlying function $f(x)$.  So, if the 3rd row of the matrix is\n",
        "$$ [ -1.2376094..., -3.448414068... ]$$\n",
        "then it was generated from $$f(-1.2376094...) =  -3.448414068...$$\n",
        "\n",
        "Your task in the project is to uncover the underlying function using the method of best-fit and SVD."
      ]
    },
    {
      "cell_type": "code",
      "metadata": {
        "id": "hZ2yAtEAWj1W",
        "colab_type": "code",
        "colab": {}
      },
      "source": [
        "# The given data:\n",
        "\n",
        "givenData = np.matrix([[-0.5089311944969932, -2.997008799965525], [3.327488211195128, -3453.7808944274257], [-1.237609470172906, -3.448414068353971], [2.2958559720851195, -189.2901607053327], [2.532411423046172, -418.96127216944654], [1.3405346345538653, 2.546491821468372], [0.10426496119492867, 0.7242241444032073], [1.873893206052621, -31.60154297604621], [-2.6209761598859194, 550.2765944168342], [-4.869993332193264, 57293.33257004533], [-2.79570102459193, 912.1837362481141], [3.1432036480386607, -2244.0036951744164], [-1.5085874374805952, 0.9480325600081159], [-3.256509676471614, 2935.0556185427467], [4.699243005535804, -44216.37934554891]])\n",
        "\n",
        "# pull of the x-coordinates and the outputs from the data:\n",
        "actual_data_x = givenData[:,0]   # first column of the matrix\n",
        "actual_data_y = givenData[:,1]   # second column of the matrix"
      ],
      "execution_count": 0,
      "outputs": []
    },
    {
      "cell_type": "markdown",
      "metadata": {
        "id": "zADred7VLkmf",
        "colab_type": "text"
      },
      "source": [
        "# 2.1  Setting up the system:\n",
        "\n",
        "We have the data points for our system stored in **actual_data_x** and **actual_data_y**.  We'll use the data to set up a system\n",
        "$$M \\vec{x} = \\vec{b}$$\n",
        "\n",
        "where **actual_data_x** is used to populate matrix $M$ and **actual_data_y** is used to populate $\\vec{b}$."
      ]
    },
    {
      "cell_type": "code",
      "metadata": {
        "id": "6Gqt4cB-L8Dn",
        "colab_type": "code",
        "colab": {}
      },
      "source": [
        "#Create the matrix M from the data in actual_data_x\n",
        "M_entries = []\n",
        "\n",
        "for i in actual_data_x:\n",
        "  x = i[0,0]\n",
        "  M_entries.append([1, x, x**2, x**3, x**4, x**5, x**6, x**7, x**8])\n",
        "\n",
        "M = []\n",
        "M = np.matrix(M_entries)\n",
        "\n",
        "\n",
        "#and create the vector b from the data in actual_data_y:\n",
        "b = []\n",
        "b = actual_data_y"
      ],
      "execution_count": 0,
      "outputs": []
    },
    {
      "cell_type": "code",
      "metadata": {
        "id": "nXXDz4e4MLVF",
        "colab_type": "code",
        "colab": {
          "base_uri": "https://localhost:8080/",
          "height": 102
        },
        "outputId": "eff0400d-351f-4c66-d5a3-21627def252b"
      },
      "source": [
        "# Uncomment either line below to show the matrix M\n",
        "# or the first five entries of b\n",
        "\n",
        "M\n",
        "b[:5]"
      ],
      "execution_count": 95,
      "outputs": [
        {
          "output_type": "execute_result",
          "data": {
            "text/plain": [
              "matrix([[-2.99700880e+00],\n",
              "        [-3.45378089e+03],\n",
              "        [-3.44841407e+00],\n",
              "        [-1.89290161e+02],\n",
              "        [-4.18961272e+02]])"
            ]
          },
          "metadata": {
            "tags": []
          },
          "execution_count": 95
        }
      ]
    },
    {
      "cell_type": "markdown",
      "metadata": {
        "id": "sfQf6wJ8M4-M",
        "colab_type": "text"
      },
      "source": [
        "#2.2:  Plot the generated system:\n",
        "\n",
        "We'll create a plot showing the function (in red) and the data points sampled for the function (in blue).\n",
        "\n",
        "To generate the graph of the function $f(x)$, we first use $100$ data points from $0$ to $99$, then compress them into an interval of width $6$, and shift it left so that the 100 data points are equally spaced between $x = -3$ and $x=3$.\n"
      ]
    },
    {
      "cell_type": "code",
      "metadata": {
        "id": "x4SRzQbAK76X",
        "colab_type": "code",
        "outputId": "8b60ca23-b2d0-4bd8-a2ec-209ebe7d5417",
        "colab": {
          "base_uri": "https://localhost:8080/",
          "height": 295
        }
      },
      "source": [
        "# Let's plot the data to see what it looks like:\n",
        "\n",
        "# We'll specify that x is a variable:\n",
        "x = sym.symbols('x')\n",
        "\n",
        "#  Create the plot of the given data in as red points:\n",
        "plt.plot(actual_data_x, actual_data_y, 'ro')\n",
        "\n",
        "#Widen or restrict the output values to this range:\n",
        "#You may have to adjust this to see more of the data points.\n",
        "#plt.ylim(-30,30)\n",
        "\n",
        "# Add a title\n",
        "plt.title('The given test data (in red)')\n",
        "\n",
        "# Add X and y Label\n",
        "plt.xlabel('x axis')\n",
        "plt.ylabel('output')\n",
        "\n",
        "# Add a grid\n",
        "plt.grid(alpha=.4,linestyle='--')"
      ],
      "execution_count": 96,
      "outputs": [
        {
          "output_type": "display_data",
          "data": {
            "image/png": "[encoded data removed]",
            "text/plain": [
              "<Figure size 432x288 with 1 Axes>"
            ]
          },
          "metadata": {
            "tags": [],
            "needs_background": "light"
          }
        }
      ]
    },
    {
      "cell_type": "markdown",
      "metadata": {
        "id": "fWAsPZLGNZOl",
        "colab_type": "text"
      },
      "source": [
        "#2.3:  Solving the system using the method of Best-Fit:\n",
        "\n",
        "Given a system \n",
        "$$ M \\vec{x} = \\vec{b}$$\n",
        "\n",
        "where matrix $M$ is **not necessarily square**, we can multiply by $M^T$ on the left to form the system\n",
        "\n",
        "$$ \\left( M^T M \\right) \\vec{x} = M^T \\vec{b} $$\n",
        "\n",
        "Now, $M^T M$ is a square matrix, so we can use it's inverse to solve for $\\vec{x}$:\n",
        "\n",
        "$$ \\vec{x} = \\left( M^T M \\right)^{-1} M^T \\vec{b}$$\n",
        "\n",
        "This solution method is called the method of Best-Fit.\n",
        "\n",
        "**A word of caution**:  We're initially trying to fit an 8th degree polynomial with 15 data points.  This might have a good solution..."
      ]
    },
    {
      "cell_type": "code",
      "metadata": {
        "id": "7u7r9UqlNsrH",
        "colab_type": "code",
        "outputId": "98fb67b7-710c-4625-e6e8-394d6f9affc4",
        "colab": {
          "base_uri": "https://localhost:8080/",
          "height": 170
        }
      },
      "source": [
        "#  Find the solution to Mx = b using Best Fit:\n",
        "#  (We've already used 'x' as a variable, so we'll call the solution vector c.)\n",
        "c = linalg.inv(M.transpose() * M) * M.transpose() * b\n",
        "c"
      ],
      "execution_count": 86,
      "outputs": [
        {
          "output_type": "execute_result",
          "data": {
            "text/plain": [
              "matrix([[-5.16649834e-10],\n",
              "        [ 7.00000000e+00],\n",
              "        [ 1.26760824e-09],\n",
              "        [-5.00000000e+00],\n",
              "        [-4.31867875e-10],\n",
              "        [ 3.00000000e+00],\n",
              "        [-1.62359015e-12],\n",
              "        [-1.00000000e+00],\n",
              "        [ 1.32249767e-12]])"
            ]
          },
          "metadata": {
            "tags": []
          },
          "execution_count": 86
        }
      ]
    },
    {
      "cell_type": "markdown",
      "metadata": {
        "id": "92zy2t8JPBns",
        "colab_type": "text"
      },
      "source": [
        "We can test our solution against the output of our original system.\n",
        "\n",
        "The original output in our system is represented by $\\vec{b}$.\n",
        "\n",
        "Our suggested solution to $M\\vec{x} = \\vec{b}$ is $\\vec{c}$.  That is, we think\n",
        "\n",
        "$$ M \\vec{c} \\approx \\vec{b}$$\n",
        "\n",
        "If we have a good fit, then \n",
        "\n",
        "$$\\vec{b} - M \\vec{c} \\approx 0$$\n",
        "\n",
        "To test our solution, we find the) magnitude of $\\vec{b} - M\\vec{c}$:"
      ]
    },
    {
      "cell_type": "code",
      "metadata": {
        "id": "VR2_j9inbtG8",
        "colab_type": "code",
        "outputId": "15092190-9d1c-40ed-e0cc-eb1d72d52d3e",
        "colab": {
          "base_uri": "https://localhost:8080/",
          "height": 34
        }
      },
      "source": [
        "#  Let's see how close this actually gets us by comparing the original b vector to the result of Mc:\n",
        "error = ((b-M*c).transpose() * (b-M*c))[0,0]\n",
        "error**0.5"
      ],
      "execution_count": 87,
      "outputs": [
        {
          "output_type": "execute_result",
          "data": {
            "text/plain": [
              "2.2667832650108537e-07"
            ]
          },
          "metadata": {
            "tags": []
          },
          "execution_count": 87
        }
      ]
    },
    {
      "cell_type": "markdown",
      "metadata": {
        "id": "lPtjH2d_PR6h",
        "colab_type": "text"
      },
      "source": [
        "We can plot the actual solution (in red) with our best-fit solution (in green), using the test data shown as blue points.  It may be helpful to adjust the limits on the y-axis to zoom in or out on the output."
      ]
    },
    {
      "cell_type": "code",
      "metadata": {
        "id": "jv0LORbqPWkZ",
        "colab_type": "code",
        "outputId": "24b1dc3b-36a7-49bd-9ee7-a3a0177c7596",
        "colab": {
          "base_uri": "https://localhost:8080/",
          "height": 295
        }
      },
      "source": [
        "#Show a plot of the solutions using the best-fit method:\n",
        "\n",
        "# We'll specify that x is a variable:\n",
        "x = sym.symbols('x')\n",
        "\n",
        "xdata = []\n",
        "fdata = []\n",
        "#set up our 100 data points on the interval from (-5, 5):\n",
        "xdata = np.array(range(100))/(100/10) - 5\n",
        "\n",
        "#Best fit method\n",
        "best_fit = c[0,0] + c[1,0]*xdata + c[2,0]*(xdata**2) + c[3,0]*(xdata**3)+c[4,0]*(xdata**4)+c[5,0]*(xdata**5)+c[6,0]*(xdata**6)+c[7,0]*(xdata**7)+c[8,0]*(xdata**8)\n",
        "#  Create the plot of the given data in as red points:\n",
        "# and the best-fit method in green: \n",
        "plt.plot(actual_data_x,actual_data_y, 'ro', alpha=0.3 ) + plt.plot(xdata,best_fit, color='green')\n",
        "\n",
        "#Widen or restrict the output values to this range:\n",
        "#You may have to adjust this to see more of the data points.\n",
        "plt.ylim(-10000,10000)\n",
        "\n",
        "# Add a title\n",
        "plt.title('Our given data (red dots) and our best-fit solution (green)')\n",
        "\n",
        "# Add X and y Label\n",
        "plt.xlabel('x axis')\n",
        "plt.ylabel('output')\n",
        "\n",
        "# Add a grid\n",
        "plt.grid(alpha=.4,linestyle='--')"
      ],
      "execution_count": 97,
      "outputs": [
        {
          "output_type": "display_data",
          "data": {
            "image/png": "[encoded data removed]",
            "text/plain": [
              "<Figure size 432x288 with 1 Axes>"
            ]
          },
          "metadata": {
            "tags": [],
            "needs_background": "light"
          }
        }
      ]
    },
    {
      "cell_type": "markdown",
      "metadata": {
        "id": "7OJ8AfnjU_QG",
        "colab_type": "text"
      },
      "source": [
        "#2.4 Solving the system using Singular Value Decomposition\n",
        "\n",
        "Singular Value Decomposition decomposes a matrix M into three matrices\n",
        "\n",
        "$$ M = U \\Sigma V^\\dagger$$\n",
        "\n",
        "where $U$ and $V$ are square matrices and $\\Sigma$ is a rectangular matrix with singular values on the main diagonal."
      ]
    },
    {
      "cell_type": "code",
      "metadata": {
        "id": "Hil2KE87btpU",
        "colab_type": "code",
        "colab": {}
      },
      "source": [
        "#  For this method, we use SVD on the data matrix M:\n",
        "U, S, Vh = linalg.svd(M, full_matrices=True)\n",
        "\n",
        "Vh = Vh.T"
      ],
      "execution_count": 0,
      "outputs": []
    },
    {
      "cell_type": "code",
      "metadata": {
        "id": "zZnOvQaubwYp",
        "colab_type": "code",
        "colab": {
          "base_uri": "https://localhost:8080/",
          "height": 68
        },
        "outputId": "c16c0543-adf0-4bed-a77e-601a0800a94a"
      },
      "source": [
        "#  Uncomment the lines below to show the matrix U, S, and Vh:\n",
        "#  Notice that in S only the singular values are stored, not the entire matrix.\n",
        "#U\n",
        "S\n",
        "#Vh"
      ],
      "execution_count": 98,
      "outputs": [
        {
          "output_type": "execute_result",
          "data": {
            "text/plain": [
              "array([3.97403909e+05, 7.97859095e+04, 1.18293135e+03, 3.74055839e+02,\n",
              "       2.36940879e+01, 9.49223692e+00, 2.58180384e+00, 1.15621098e+00,\n",
              "       9.27464467e-01])"
            ]
          },
          "metadata": {
            "tags": []
          },
          "execution_count": 98
        }
      ]
    },
    {
      "cell_type": "code",
      "metadata": {
        "id": "t7tnQgNPVLY7",
        "colab_type": "code",
        "outputId": "41d054cb-526e-4403-9c09-0d54c913a138",
        "colab": {
          "base_uri": "https://localhost:8080/",
          "height": 34
        }
      },
      "source": [
        "#  The 2nd singular value is:\n",
        "S[1]"
      ],
      "execution_count": 99,
      "outputs": [
        {
          "output_type": "execute_result",
          "data": {
            "text/plain": [
              "79785.90945905783"
            ]
          },
          "metadata": {
            "tags": []
          },
          "execution_count": 99
        }
      ]
    },
    {
      "cell_type": "code",
      "metadata": {
        "id": "LA65dzKFb39T",
        "colab_type": "code",
        "outputId": "71d1cf52-83e9-416b-8642-042f7bc3b1aa",
        "colab": {
          "base_uri": "https://localhost:8080/",
          "height": 34
        }
      },
      "source": [
        "# We can compare the original matrix M to the matrix reconstructed (called a1) from the SVD:\n",
        "# If they are close, then allclose(M, a1) should be True.\n",
        "\n",
        "#First, recast S as a matrix instead of a vector:\n",
        "sigma = np.zeros((U.shape[1], Vh.shape[0]))\n",
        "for i in range(min(sigma.shape)):\n",
        "     sigma[i, i] = S[i]\n",
        "#Reconstruct the matrix:\n",
        "a1 = np.dot(U, np.dot(sigma, Vh.T))\n",
        "\n",
        "#does a1 approximate M?\n",
        "np.allclose(M, a1)"
      ],
      "execution_count": 100,
      "outputs": [
        {
          "output_type": "execute_result",
          "data": {
            "text/plain": [
              "True"
            ]
          },
          "metadata": {
            "tags": []
          },
          "execution_count": 100
        }
      ]
    },
    {
      "cell_type": "markdown",
      "metadata": {
        "id": "p5RRpsASVRev",
        "colab_type": "text"
      },
      "source": [
        "The SVD decomposition of matrix $M$ may have non-zero singular values in $\\Sigma.  To solve\n",
        "$$ M \\vec{x} = \\vec{b}$$\n",
        "\n",
        "we can replace $M$ with $U \\Sigma V^\\dagger$:\n",
        "$$ U \\, \\Sigma \\, V^\\dagger \\, \\vec{x} = \\vec{b}$$\n",
        "\n",
        "The inverse of matrices $U$ and $V$ are $U^\\dagger$ and $V^\\dagger$.  If we decompose $\\Sigma$ into a block matrix composed of the non-zero singular values, then we can restrict our singular value decomposition into invertible and non-invertible parts:\n",
        "\n",
        "$$ U \\, \\Sigma \\, V^\\dagger = \\left( \\begin{array}{c|c} U_{use} & U_{discard} \\\\ \\end{array} \\right) \\left( \\begin{array}{c|c} \\Sigma_{use} & 0 \\\\ \\hline 0 & \\Sigma_{discard} \\\\ \\end{array} \\right)  \\left( \\begin{array}{c|c} V_{use} & V_{discard} \\\\ \\end{array} \\right)^\\dagger$$\n",
        "\n",
        "Effectively, this allows us to replace $U \\Sigma V^\\dagger \\vec{x} = \\vec{b}$ with\n",
        "\n",
        "$$ U_{use} \\, \\Sigma_{use} \\, V_{use}^\\dagger \\, \\vec{x} = \\vec{b}$$\n",
        "\n",
        "The solution to this system is then\n",
        "\n",
        "$$\\vec{x} = V_{use} \\, \\Sigma_{use}^{-1} \\, U_{use}^\\dagger \\, \\vec{b}$$\n"
      ]
    },
    {
      "cell_type": "code",
      "metadata": {
        "id": "W50_oUxwb5TQ",
        "colab_type": "code",
        "colab": {}
      },
      "source": [
        "#  Based on the number of non-zero singular values in S, divide each of U, sigma, and Vh into \n",
        "#  U_use, Sigma_use, and Vh_use.\n",
        "#  and  discard U_d, Sigma_d, Vh_d\n",
        "useSigs = 9\n",
        "\n",
        "#Use these parts of U, S, and Vh\n",
        "(Vrows, Vcols) = Vh.shape\n",
        "(Urows, Ucols) = U.shape\n",
        "U_use = U[:Urows, :useSigs]\n",
        "Vh_use = Vh[:Vrows, :useSigs]\n",
        "sigma_use = sigma[:useSigs, :useSigs]\n",
        "\n",
        "#discard these parts of U, S, and Vh:\n",
        "U_d = U[:Urows, useSigs:]\n",
        "Vh_d = Vh[:Vrows, useSigs:]\n",
        "sigma_d = sigma[useSigs:, useSigs:]"
      ],
      "execution_count": 0,
      "outputs": []
    },
    {
      "cell_type": "code",
      "metadata": {
        "id": "kv84g_TKb6oc",
        "colab_type": "code",
        "outputId": "e61af73a-63c1-4986-9ef6-48c7a1548c6c",
        "colab": {
          "base_uri": "https://localhost:8080/",
          "height": 34
        }
      },
      "source": [
        "#  We should be able to figure out the size of U and Vh that we'll use:\n",
        "#\n",
        "#  U S Vh  =   [         .     ] [             .         ]  [            .      ]\n",
        "#              [ U_use   .     ] [  sigma_use  .         ]  [   Vh_use   .      ]\n",
        "#              [         . U_d ] [.......................]  [            . Vh_d ]\n",
        "#              [         .     ] [             . sigma_d ]  [            .      ]\n",
        "#\n",
        "#\n",
        "#  Uncomment these lines (one at a time) to check that U_use, sigma_use, and Vh_use are the right sizes, as well as U_d, sigma_d, and Vh_d\n",
        "U_use.shape\n",
        "sigma_use.shape\n",
        "Vh_use.shape\n",
        "U_d.shape\n",
        "sigma_d.shape\n",
        "Vh_d.shape"
      ],
      "execution_count": 146,
      "outputs": [
        {
          "output_type": "execute_result",
          "data": {
            "text/plain": [
              "(9, 0)"
            ]
          },
          "metadata": {
            "tags": []
          },
          "execution_count": 146
        }
      ]
    },
    {
      "cell_type": "code",
      "metadata": {
        "id": "Lo2uoltbb8F-",
        "colab_type": "code",
        "outputId": "e0027308-a3fa-4deb-d0bb-b0595b12ae03",
        "colab": {
          "base_uri": "https://localhost:8080/",
          "height": 170
        }
      },
      "source": [
        "#  If we use Singular Value Decomposition to break down M as a product of matrices\n",
        "#  M = U sigma Vh.conjugate_transpose()\n",
        "#  Then the part of A which corresponds to non-zero singular values is:\n",
        "#  M_use = U_use sigma_use Vh_use.conjugate_transpose()\n",
        "#\n",
        "#  So, the equation Mx = b becomes:  (U_use sigma_use Vh_use.conjugate_transpose()) x = b\n",
        "#  or\n",
        "#  svd_sol = (U_use sigma_use Vh_use.conjugate_transpose()).inverse() b\n",
        "#  or\n",
        "#  svd_sol = Vh_use * Sigma_use.inverse() * U_use.transpose() * b\n",
        "#  (since Vh_use.conjugate_transpose() = Vh_use.inverse() and U_use.transpose() = U_use.inverse() )\n",
        "svdsol = (Vh_use @ linalg.inv(sigma_use) @ U_use.transpose()) @ b\n",
        "svdsol"
      ],
      "execution_count": 147,
      "outputs": [
        {
          "output_type": "execute_result",
          "data": {
            "text/plain": [
              "matrix([[ 1.89714910e-11],\n",
              "        [ 7.00000000e+00],\n",
              "        [-3.11501935e-11],\n",
              "        [-5.00000000e+00],\n",
              "        [ 6.05382411e-12],\n",
              "        [ 3.00000000e+00],\n",
              "        [-4.26325641e-13],\n",
              "        [-1.00000000e+00],\n",
              "        [ 7.77156117e-15]])"
            ]
          },
          "metadata": {
            "tags": []
          },
          "execution_count": 147
        }
      ]
    },
    {
      "cell_type": "markdown",
      "metadata": {
        "id": "sraTkiB4VdTA",
        "colab_type": "text"
      },
      "source": [
        "We can test our solution against the output of our original system.\n",
        "\n",
        "The original output in our system is represented by $\\vec{b}$.\n",
        "\n",
        "Our suggested solution to $M\\vec{x} = \\vec{b}$ is $\\vec{svdsol}$.  That is, we think\n",
        "\n",
        "$$ M \\vec{svdsol} \\approx \\vec{b}$$\n",
        "\n",
        "If we have a good fit, then \n",
        "\n",
        "$$\\vec{b} - M \\vec{svdsol} \\approx 0$$\n",
        "\n",
        "To test our solution, we find the) magnitude of $\\vec{b} - M\\vec{svdsol}$:"
      ]
    },
    {
      "cell_type": "code",
      "metadata": {
        "id": "Nfsvq9VrViD8",
        "colab_type": "code",
        "outputId": "f63793a0-4f1d-4aec-ab73-0ef9cfa96f2a",
        "colab": {
          "base_uri": "https://localhost:8080/",
          "height": 34
        }
      },
      "source": [
        "#  Let's see how close this actually gets us by comparing the original b vector to the result of Mc:\n",
        "error = ((b-M*svdsol).transpose() * (b-M*svdsol))[0,0]\n",
        "error**0.5"
      ],
      "execution_count": 148,
      "outputs": [
        {
          "output_type": "execute_result",
          "data": {
            "text/plain": [
              "7.645159273466991e-10"
            ]
          },
          "metadata": {
            "tags": []
          },
          "execution_count": 148
        }
      ]
    },
    {
      "cell_type": "code",
      "metadata": {
        "id": "b9_J3JjbVouD",
        "colab_type": "code",
        "outputId": "cabcf656-4f30-47b8-e00d-48554cd38059",
        "colab": {
          "base_uri": "https://localhost:8080/",
          "height": 295
        }
      },
      "source": [
        "#Show a plot of the solutions using the SVD method:\n",
        "\n",
        "# We'll specify that x is a variable:\n",
        "x = sym.symbols('x')\n",
        "\n",
        "xdata = []\n",
        "fdata = []\n",
        "#set up our 100 data points on the interval from (-5, 5):\n",
        "xdata = np.array(range(100))/(100/10) - 5\n",
        "\n",
        "#construct the solution from svdsol\n",
        "svd_fit = svdsol[0,0] + svdsol[1,0]*xdata + svdsol[2,0]*(xdata**2) + svdsol[3,0]*(xdata**3)+svdsol[4,0]*(xdata**4)+svdsol[5,0]*(xdata**5)+svdsol[6,0]*(xdata**6)+svdsol[7,0]*(xdata**7)+svdsol[8,0]*(xdata**8)\n",
        "#  Create the plot of the given data in as red points:\n",
        "# and the svd solution in aqua:  \n",
        "plt.plot(actual_data_x,actual_data_y, 'ro', alpha=0.3 ) + plt.plot(xdata,svd_fit, color='aqua')\n",
        "\n",
        "#Widen or restrict the output values to this range:\n",
        "#You may have to adjust this to see more of the data points.\n",
        "plt.ylim(-10000,10000)\n",
        "\n",
        "# Add a title\n",
        "plt.title('Our given data (red dots)  and svd solution (aqua)')\n",
        "\n",
        "# Add X and y Label\n",
        "plt.xlabel('x axis')\n",
        "plt.ylabel('output')\n",
        "\n",
        "# Add a grid\n",
        "plt.grid(alpha=.4,linestyle='--')\n"
      ],
      "execution_count": 149,
      "outputs": [
        {
          "output_type": "display_data",
          "data": {
            "image/png": "[encoded data removed]",
            "text/plain": [
              "<Figure size 432x288 with 1 Axes>"
            ]
          },
          "metadata": {
            "tags": [],
            "needs_background": "light"
          }
        }
      ]
    },
    {
      "cell_type": "markdown",
      "metadata": {
        "id": "tYilTfS6XGzj",
        "colab_type": "text"
      },
      "source": [
        "#2.5  Assignment\n",
        "\n",
        "The problems above utilized a 2nd degree polynomial to fit the given data.  To complete this assignment, you need to\n",
        "\n",
        "\n",
        "\n",
        "1.   Modify the code above to utilize an 8th degree polynomial for both the best-fit and SVD methods\n",
        "2.   Write out the polynomial used to generate the original given data.\n",
        "3.   Broaden the output on the graphs above and below in order to see all fifteen data points.\n",
        "\n",
        "\n",
        "The graph below should show both the best-fit and svd solution:"
      ]
    },
    {
      "cell_type": "code",
      "metadata": {
        "id": "Z5nHfhnpb-FO",
        "colab_type": "code",
        "outputId": "cd86cced-8a9d-44f6-a9d6-d6a99b34b3ee",
        "colab": {
          "base_uri": "https://localhost:8080/",
          "height": 295
        }
      },
      "source": [
        "#Show a plot of the solutions using the best-fit method, and the SVD method:\n",
        "\n",
        "# We'll specify that x is a variable:\n",
        "x = sym.symbols('x')\n",
        "\n",
        "xdata = []\n",
        "fdata = []\n",
        "#set up our 100 data points on the interval from (-5, 5):\n",
        "xdata = np.array(range(100))/(100/10) - 5\n",
        "\n",
        "#Best fit method\n",
        "best_fit = c[0,0] + c[1,0]*xdata + c[2,0]*(xdata**2) + c[3,0]*(xdata**3)+c[4,0]*(xdata**4)+c[5,0]*(xdata**5)+c[6,0]*(xdata**6)+c[7,0]*(xdata**7)+c[8,0]*(xdata**8)\n",
        "\n",
        "#construct the solution from svdsol\n",
        "svd_fit = svdsol[0,0] + svdsol[1,0]*xdata + svdsol[2,0]*(xdata**2) + svdsol[3,0]*(xdata**3)+svdsol[4,0]*(xdata**4)+svdsol[5,0]*(xdata**5)+svdsol[6,0]*(xdata**6)+svdsol[7,0]*(xdata**7)+svdsol[8,0]*(xdata**8)\n",
        "\n",
        "#  Create the plot of the given data in as red points:\n",
        "#  the best-fit method in green, and the svd solution in aqua:  \n",
        "plt.plot(actual_data_x,actual_data_y, 'ro', alpha=0.3 ) + plt.plot(xdata,best_fit, color='green') + plt.plot(xdata,svd_fit, color='aqua')\n",
        "\n",
        "#Widen or restrict the output values to this range:\n",
        "#You may have to adjust this to see more of the data points.\n",
        "plt.ylim(-75000,75000)\n",
        "\n",
        "# Add a title\n",
        "plt.title('Our given data (red dots), our best-fit solution (green), and svd solution (aqua)')\n",
        "# Add X and y Label\n",
        "plt.xlabel('x axis')\n",
        "plt.ylabel('output')\n",
        "\n",
        "# Add a grid\n",
        "plt.grid(alpha=.4,linestyle='--')"
      ],
      "execution_count": 155,
      "outputs": [
        {
          "output_type": "display_data",
          "data": {
            "image/png": "[encoded data removed]",
            "text/plain": [
              "<Figure size 432x288 with 1 Axes>"
            ]
          },
          "metadata": {
            "tags": [],
            "needs_background": "light"
          }
        }
      ]
    },
    {
      "cell_type": "code",
      "metadata": {
        "id": "yxBjyjLRcAFn",
        "colab_type": "code",
        "colab": {
          "base_uri": "https://localhost:8080/",
          "height": 34
        },
        "outputId": "6d4a2ef3-db3b-41ee-8867-4730e790b1b9"
      },
      "source": [
        "# For obtainging an error of approximately zero, I used 9 singular values to fit the polynomial, since 8 singular values produced an error. \n",
        "# Using 9, gave us the highest amount of accuarcy in determining the model. \n",
        "# My polynomial was: (1.89714910e-11)+(7.00000000e+00)*x+(-3.11501935e-11)*x**2+(-5.00000000e+00)*x**3+(6.05382411e-12)*x**4+(3.00000000e+00)*x**5+(-4.26325641e-13)*x*6+(-1.00000000e+00)*x**7+ (7.77156117e-15)*x**8\n",
        "# Testing First x Coordinate\n",
        "(1.89714910e-11)+(7.00000000e+00)*-0.5089311944969932+(-3.11501935e-11)*-0.5089311944969932**2+(-5.00000000e+00)*-0.5089311944969932**3+(6.05382411e-12)*-0.5089311944969932**4+(3.00000000e+00)*-0.5089311944969932**5+(-4.26325641e-13)*-0.5089311944969932*6+(-1.00000000e+00)*-0.5089311944969932**7+ (7.77156117e-15)*-0.5089311944969932**8"
      ],
      "execution_count": 150,
      "outputs": [
        {
          "output_type": "execute_result",
          "data": {
            "text/plain": [
              "-2.99700879993759"
            ]
          },
          "metadata": {
            "tags": []
          },
          "execution_count": 150
        }
      ]
    }
  ]
}