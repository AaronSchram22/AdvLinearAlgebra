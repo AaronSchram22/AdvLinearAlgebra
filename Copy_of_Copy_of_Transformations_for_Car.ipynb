{
  "nbformat": 4,
  "nbformat_minor": 0,
  "metadata": {
    "colab": {
      "name": "Copy of Copy of Transformations for Car",
      "provenance": [],
      "toc_visible": true,
      "include_colab_link": true
    },
    "kernelspec": {
      "name": "python3",
      "display_name": "Python 3"
    }
  },
  "cells": [
    {
      "cell_type": "markdown",
      "metadata": {
        "id": "view-in-github",
        "colab_type": "text"
      },
      "source": [
        "<a href=\"https://colab.research.google.com/github/AaronSchram22/AdvLinearAlgebra/blob/master/Copy_of_Copy_of_Transformations_for_Car.ipynb\" target=\"_parent\"><img src=\"https://colab.research.google.com/assets/colab-badge.svg\" alt=\"Open In Colab\"/></a>"
      ]
    },
    {
      "cell_type": "code",
      "metadata": {
        "id": "ubqt1c0MDF-X",
        "colab_type": "code",
        "colab": {}
      },
      "source": [
        "import numpy as np\n",
        "import matplotlib.pyplot as plt"
      ],
      "execution_count": 0,
      "outputs": []
    },
    {
      "cell_type": "markdown",
      "metadata": {
        "id": "1nVTY4zaDNLG",
        "colab_type": "text"
      },
      "source": [
        "In this worksheet, we will generate matrix functions and use them to verify our solution to the car driving problem.\n",
        "The car will be represented by a vector $$\\vec{c} = \\left( \\begin{array}{c} x \\\\  y \\\\  1 \\\\ \\end{array} \\right)$$\n",
        "and the headlights will be represented by a vector\n",
        "$$ \\vec{l} = \\left( \\begin{array}{c} x \\\\ y \\\\ 1 \\\\ \\end{array} \\right)$$\n",
        "which will extend one unit in front of the car.\n",
        "\n",
        "##\n",
        "\n",
        "We will use the car and light definition to practice function declarations.  To place the car at (3,0) on the x-axis, we could specify:"
      ]
    },
    {
      "cell_type": "code",
      "metadata": {
        "id": "_t_f3feYFzdY",
        "colab_type": "code",
        "outputId": "bf545543-3b5d-4d3d-f2b0-d5c971933a69",
        "colab": {
          "base_uri": "https://localhost:8080/",
          "height": 68
        }
      },
      "source": [
        "#car = np.array([3,0,1]) \n",
        "#car = np.mat('3,0,1')\n",
        "#car = np.mat('3,0,1').T\n",
        "car = np.matrix([[3],[0],[1]])\n",
        "\n",
        "car\n"
      ],
      "execution_count": 0,
      "outputs": [
        {
          "output_type": "execute_result",
          "data": {
            "text/plain": [
              "matrix([[3],\n",
              "        [0],\n",
              "        [1]])"
            ]
          },
          "metadata": {
            "tags": []
          },
          "execution_count": 4
        }
      ]
    },
    {
      "cell_type": "markdown",
      "metadata": {
        "id": "OdtEsY3TETwL",
        "colab_type": "text"
      },
      "source": [
        "Instead, we will make it easy to specify where the car is by letting us define the car as a function of two inputs, the $x$ and $y$ location, like so:  $$location(x,y) = \\left( \\begin{array}{c} x \\\\ y \\\\ 1 \\\\  \\end{array} \\right)$$\n",
        "\n",
        "so that we can specify\n",
        "\n",
        "$$ car = location(3,0)   \\hspace{2cm} lights = location(3,1)$$\n",
        "\n",
        "by modifying the code block below:\n",
        "\n",
        "```\n",
        "def square(a):\n",
        "       \"\"\"Return the square of a.\"\"\"\n",
        "       return a ** 2\n",
        "```\n"
      ]
    },
    {
      "cell_type": "code",
      "metadata": {
        "id": "hHdMlbyMGZG3",
        "colab_type": "code",
        "outputId": "5a1fa627-8f18-405a-c185-4caa7550ce4f",
        "colab": {
          "base_uri": "https://localhost:8080/",
          "height": 68
        }
      },
      "source": [
        "def location(a,b):\n",
        "       \"\"\"create a vector at location [a, b, 1].\"\"\"\n",
        "       return np.matrix([[a],[b],[1]])\n",
        "\n",
        "location(3,0)\n"
      ],
      "execution_count": 0,
      "outputs": [
        {
          "output_type": "execute_result",
          "data": {
            "text/plain": [
              "matrix([[3],\n",
              "        [0],\n",
              "        [1]])"
            ]
          },
          "metadata": {
            "tags": []
          },
          "execution_count": 39
        }
      ]
    },
    {
      "cell_type": "code",
      "metadata": {
        "id": "OrmBpkI990FS",
        "colab_type": "code",
        "outputId": "dbae8d2f-9509-4c06-cca1-dd6a5aef46b6",
        "colab": {
          "base_uri": "https://localhost:8080/",
          "height": 68
        }
      },
      "source": [
        "#Verify that it works to define the car and the light direction:\n",
        "\n",
        "car = location(3,0)\n",
        "\n",
        "light = location(3,1)\n",
        "\n",
        "light\n"
      ],
      "execution_count": 0,
      "outputs": [
        {
          "output_type": "execute_result",
          "data": {
            "text/plain": [
              "matrix([[3],\n",
              "        [1],\n",
              "        [1]])"
            ]
          },
          "metadata": {
            "tags": []
          },
          "execution_count": 13
        }
      ]
    },
    {
      "cell_type": "markdown",
      "metadata": {
        "id": "yZKKbf1UHaQw",
        "colab_type": "text"
      },
      "source": [
        "In your homework, you constructed several matrices by combining translation matrices and rotation matrices\n",
        "\n",
        "$$\n",
        "T_{c,d} = \\left( \\begin{array}{ccc} 1 & 0 & c \\\\ 0 & 1 & d \\\\ 0 & 0 & 1 \\\\ \\end{array} \\right) \\hspace{2cm} R_\\phi = \\left( \\begin{array}{ccc} \\cos \\phi & -\\sin \\phi & 0 \\\\ \\sin \\phi & \\cos \\phi & 0 \\\\ 0 & 0 & 1 \\\\ \\end{array} \\right)\n",
        "$$\n",
        "\n",
        "into complicated matrices which could rotate a car at a fixed position.  We're going to verify your results by combining matrices and checking the effect on the car's direction.\n",
        "\n",
        "First, let's define the two basic matrices $T(a,b)$ and $R(\\phi)$:"
      ]
    },
    {
      "cell_type": "code",
      "metadata": {
        "id": "WJAryfZ0FARN",
        "colab_type": "code",
        "colab": {}
      },
      "source": [
        "def T(c,d):\n",
        "  \"\"\"Return a 3x3 matrix which translates x by a and y by b\"\"\"\n",
        "  return np.matrix([[1,0,c], [0,1,d], [0,0,1]])\n",
        "\n",
        "def R(phi):\n",
        "  \"\"\"Return a 3x3 matrix which translates around the origin by angle phi\"\"\"\n",
        "  return np.matrix([[np.cos(np.deg2rad(phi)), -1*np.sin(np.deg2rad(phi)), 0], [np.sin(np.deg2rad(phi)), np.cos(np.deg2rad(phi)), 0], [0, 0, 1] ])"
      ],
      "execution_count": 0,
      "outputs": []
    },
    {
      "cell_type": "markdown",
      "metadata": {
        "id": "8DNVwH4RNDDR",
        "colab_type": "text"
      },
      "source": [
        "Be Careful!!!  Just because something looks like a matrix does not mean it is a matrix!!!   In your group, develop some tests to make sure we have the results we expect.  Each group contributes one idea:"
      ]
    },
    {
      "cell_type": "code",
      "metadata": {
        "id": "imccf5kBMx-Q",
        "colab_type": "code",
        "outputId": "d2c4a0d8-7683-4f84-8ef5-289f571ef878",
        "colab": {
          "base_uri": "https://localhost:8080/",
          "height": 68
        }
      },
      "source": [
        "T(3,4)*T(3,4)"
      ],
      "execution_count": 0,
      "outputs": [
        {
          "output_type": "execute_result",
          "data": {
            "text/plain": [
              "matrix([[1, 0, 6],\n",
              "        [0, 1, 8],\n",
              "        [0, 0, 1]])"
            ]
          },
          "metadata": {
            "tags": []
          },
          "execution_count": 40
        }
      ]
    },
    {
      "cell_type": "markdown",
      "metadata": {
        "id": "EA9kTmUoRgHn",
        "colab_type": "text"
      },
      "source": [
        "Here's some documentation on the difference between arrays and matrices:\n",
        "\n",
        "https://docs.scipy.org/doc/numpy-1.13.0/reference/arrays.classes.html#index-0"
      ]
    },
    {
      "cell_type": "markdown",
      "metadata": {
        "id": "y4qNC33EOR9F",
        "colab_type": "text"
      },
      "source": [
        "We'll test the result  of the translations on our original car and light position, which moved the car from $(3,0)$ to $(3,0)$ but from pointing 'north' to pointing 'east'  (e.g. pointing toward $(4,0)$ to $(3,1)$  )\n",
        "\n",
        "\n"
      ]
    },
    {
      "cell_type": "code",
      "metadata": {
        "id": "JcgVR64fO8YV",
        "colab_type": "code",
        "outputId": "01a50cb6-a9a6-4f38-defd-bddb3b54339f",
        "colab": {
          "base_uri": "https://localhost:8080/",
          "height": 68
        }
      },
      "source": [
        "car = location(3,0)\n",
        "light = location(3,1)\n",
        "\n",
        "newcar = T(3,0) * R(-90) * T(-3,0) * car\n",
        "newlight= T(3,0) * R(-90) * T(-3,0) * light\n",
        "newlight"
      ],
      "execution_count": 0,
      "outputs": [
        {
          "output_type": "execute_result",
          "data": {
            "text/plain": [
              "matrix([[4.],\n",
              "        [0.],\n",
              "        [1.]])"
            ]
          },
          "metadata": {
            "tags": []
          },
          "execution_count": 48
        }
      ]
    },
    {
      "cell_type": "code",
      "metadata": {
        "id": "SxXmwY_YQIlc",
        "colab_type": "code",
        "outputId": "4ad180d5-e9a6-411d-da64-ba967d174fd0",
        "colab": {
          "base_uri": "https://localhost:8080/",
          "height": 279
        }
      },
      "source": [
        "ax = plt.axes()\n",
        "\n",
        "ax.arrow(car[0,0], car[1,0], newcar[0,0]-car[0,0],newcar[1,0]-newcar[1,0], head_width=0.5, head_length=0.5, fc='lightblue', ec='black')\n",
        "ax.arrow(car[0,0],car[1,0],light[0,0]-car[0,0],light[1,0]-car[1,0], head_width=0.5, head_length=0.5, fc='lightblue', ec='red')\n",
        "\n",
        "#New direction of lights;\n",
        "ax.arrow(car[0,0],car[1,0],newlight[0,0]-car[0,0],newlight[1,0]-car[1,0],head_width=0.5, head_length=0.5, fc='lightblue', ec='red')\n",
        "\n",
        "plt.grid()\n",
        "\n",
        "plt.xlim(-5,5)\n",
        "plt.ylim(-5,5)\n",
        "\n",
        "plt.title('Initial Car Position (black) and final car position (red) ?',fontsize=10)\n",
        "\n",
        "plt.savefig('Initial Car Position (black) and final car position (red).png', bbox_inches='tight')\n",
        "plt.show()\n",
        "plt.close()"
      ],
      "execution_count": 0,
      "outputs": [
        {
          "output_type": "display_data",
          "data": {
            "image/png": "[encoded data removed]",
            "text/plain": [
              "<Figure size 432x288 with 1 Axes>"
            ]
          },
          "metadata": {
            "tags": []
          }
        }
      ]
    },
    {
      "cell_type": "markdown",
      "metadata": {
        "id": "oi8gu2VRTfc0",
        "colab_type": "text"
      },
      "source": [
        "# Homework 1:  Construct the transformation that allows the car to turn right by 90 degrees from location (a,b)\n",
        "Construct the single matrix $R_{a, b, 90}$ as a product of the simple matrices $T_{c,d}$ and $R_{\\phi}$ constructed above.\n",
        "\n",
        "Verify the result by applying your new matrix to the car located at various locations.\n",
        "\n",
        "Produce a plot that shows the result of the transformation on a car located in at least two different quadrants.\n"
      ]
    },
    {
      "cell_type": "code",
      "metadata": {
        "id": "wIeLNqrMQKwR",
        "colab_type": "code",
        "outputId": "741d7410-d84b-4294-e20f-7f12dba2fe4e",
        "colab": {
          "base_uri": "https://localhost:8080/",
          "height": 68
        }
      },
      "source": [
        "def RabBy90(a,b, T, R):\n",
        "  \"\"\"Return a 3x3 matrix which rotates the car at location a,b by 90 degrees.\"\"\"\n",
        "  # We have to pass in the T and R functions if we are going to use them in this function.\n",
        "  return T(3,0) * R(-90) * T(-3, -0)\n",
        "\n",
        "RabBy90(3,1, T, R)\n",
        "\n",
        "MyMatrix = np.matrix([[0,1,3-2],[-1,0,3+2],[0,0,1]])\n",
        "MyMatrix*np.matrix([[3],[3],[1]])\n",
        "\n",
        "MyMatrix = np.matrix([[0,1,3-2],[-1,0,3+2],[0,0,1]])\n",
        "MyMatrix*np.matrix([[3],[2],[1]])\n",
        "\n",
        "MyMatrix = np.matrix([[0,1,3-0],[-1,0,3+0],[0,0,1]])\n",
        "MyMatrix*np.matrix([[3],[0],[1]])\n",
        "\n",
        "MyMatrix = np.matrix([[0,1,3-0],[-1,0,3+0],[0,0,1]])\n",
        "MyMatrix*np.matrix([[3],[1],[1]])\n",
        "\n",
        "SingleMAtrix = np.matrix([[0,1,a-b],[-1,0,a+b],[0,0,1]])\n",
        "SingleMAtrix\n"
      ],
      "execution_count": 0,
      "outputs": [
        {
          "output_type": "execute_result",
          "data": {
            "text/plain": [
              "matrix([[ 0,  1,  1],\n",
              "        [-1,  0,  5],\n",
              "        [ 0,  0,  1]])"
            ]
          },
          "metadata": {
            "tags": []
          },
          "execution_count": 36
        }
      ]
    },
    {
      "cell_type": "code",
      "metadata": {
        "id": "vSDzmp-KYR0u",
        "colab_type": "code",
        "outputId": "0300db88-f0f9-458b-e834-c57afd961b82",
        "colab": {
          "base_uri": "https://localhost:8080/",
          "height": 527
        }
      },
      "source": [
        "#car 1 location at (3,2) heading toward (3,3)\n",
        "#car 2 location at (-2, -3) heading toward (-1, -3)\n",
        "\n",
        "ax = plt.axes()\n",
        "\n",
        "#car 1 old position:\n",
        "ax.arrow(2, 2, 1.0, 1.0, head_width=0.5, head_length=0.7, fc='lightblue', ec='black')\n",
        "#car 1 new position:\n",
        "ax.arrow(2, 2, 2.0, -1, head_width=0.5, head_length=0.7, fc='lightblue', ec='red')\n",
        "\n",
        "#car 2 old position:\n",
        "ax.arrow(2, 2, 2.0, -1, head_width=0.5, head_length=0.7, fc='lightblue', ec='red')\n",
        "#car 2 new position:\n",
        "ax.arrow(2, 2, 2.0, -1, head_width=0.5, head_length=0.7, fc='lightblue', ec='red')\n",
        "\n",
        "\n",
        "plt.grid()\n",
        "\n",
        "plt.xlim(-5,5)\n",
        "plt.ylim(-5,5)\n",
        "\n",
        "plt.title('Showing Car rotates 90 degrees ?',fontsize=10)\n",
        "\n",
        "plt.savefig('Showing Car rotates 90 degrees.png', bbox_inches='tight')\n",
        "plt.show()\n",
        "plt.close()\n",
        "\n",
        "ax = plt.axes()\n",
        "\n",
        "#car 1 old position:\n",
        "ax.arrow(2, 2, 1.0, 1.0, head_width=0.5, head_length=0.7, fc='lightblue', ec='black')\n",
        "#car 1 new position:\n",
        "ax.arrow(2, -2, 2.0, -1, head_width=0.5, head_length=0.7, fc='lightblue', ec='red')\n",
        "\n",
        "#car 2 old position:\n",
        "ax.arrow(2, 2, 2.0, -1, head_width=0.5, head_length=0.7, fc='lightblue', ec='red')\n",
        "#car 2 new position:\n",
        "ax.arrow(2, -2, 2.0, -1, head_width=0.5, head_length=0.7, fc='lightblue', ec='red')\n",
        "\n",
        "\n",
        "plt.grid()\n",
        "\n",
        "plt.xlim(-5,5)\n",
        "plt.ylim(-5,5)\n",
        "\n",
        "plt.title('',fontsize=10)\n",
        "\n",
        "plt.savefig('Showing Car rotates 90 degrees.png', bbox_inches='tight')\n",
        "plt.show()\n",
        "plt.close()"
      ],
      "execution_count": 0,
      "outputs": [
        {
          "output_type": "display_data",
          "data": {
            "image/png": "[encoded data removed]",
            "text/plain": [
              "<Figure size 432x288 with 1 Axes>"
            ]
          },
          "metadata": {
            "tags": []
          }
        },
        {
          "output_type": "display_data",
          "data": {
            "image/png": "[encoded data removed]",
            "text/plain": [
              "<Figure size 432x288 with 1 Axes>"
            ]
          },
          "metadata": {
            "tags": []
          }
        }
      ]
    },
    {
      "cell_type": "markdown",
      "metadata": {
        "id": "viVT6qimX6U0",
        "colab_type": "text"
      },
      "source": [
        "# Homework 2:  Construct the transformation that allows the car to turn right by phi degrees from location (a,b)\n",
        "\n",
        "Construct the single matrix  $R_{a,b,phi}$  as a product of the simple matrices  $T_{c,d}$  and  $R_\\phi$  constructed above.\n",
        "\n",
        "Verify the result by applying your new matrix to the car located at various locations.\n",
        "\n",
        "Produce a plot that shows the result of the transformation on a car located in at least two different quadrants."
      ]
    },
    {
      "cell_type": "code",
      "metadata": {
        "id": "UI9gA8XgUgGl",
        "colab_type": "code",
        "outputId": "c9bea55f-3ea3-4bd9-e109-e8287568c5ba",
        "colab": {
          "base_uri": "https://localhost:8080/",
          "height": 68
        }
      },
      "source": [
        "def RabByPhi(a,b,phi, T, R):\n",
        "  \"\"\"Return a 3x3 matrix which rotates the car at location a,b by 90 degrees.\"\"\"\n",
        "  return T(a,b) * R(phi) * T(-a, -b)\n",
        "\n",
        "  RabByPhi( 3, 0, -90, T, R)\n",
        "\n",
        "a=3\n",
        "b= 0\n",
        "MyMatrix = np.matrix([[np.cos(np.deg2rad(-90)), -1*np.sin(np.deg2rad(-90)), -a*np.cos(np.deg2rad(-90))+b*np.sin(np.deg2rad(-90))+a], [np.sin(np.deg2rad(-90)), np.cos(np.deg2rad(-90)),-a*np.sin(np.deg2rad(-90))-b*np.cos(np.deg2rad(-90))+b], [0, 0, 1] ])\n",
        "MyMatrix*np.matrix([[3],[1],[1]])\n",
        "\n",
        "a=3\n",
        "b= 2\n",
        "MyMatrix = np.matrix([[np.cos(np.deg2rad(-90)), -1*np.sin(np.deg2rad(-90)), -a*np.cos(np.deg2rad(-90))+b*np.sin(np.deg2rad(-90))+a], [np.sin(np.deg2rad(-90)), np.cos(np.deg2rad(-90)),-a*np.sin(np.deg2rad(-90))-b*np.cos(np.deg2rad(-90))+b], [0, 0, 1] ])\n",
        "MyMatrix*np.matrix([[3],[3],[1]])\n",
        "\n",
        "SingleMatrix = np.matrix([[np.cos(np.deg2rad(theta)), -1*np.sin(np.deg2rad(theta)), -a*np.cos(np.deg2rad(theta))+b*np.sin(np.deg2rad(theta))+a], [np.sin(np.deg2rad(theta)), np.cos(np.deg2rad(theta)),-a*np.sin(np.deg2rad(theta))-b*np.cos(np.deg2rad(theta))+b], [0, 0, 1] ])\n",
        "\n",
        "\n"
      ],
      "execution_count": 0,
      "outputs": [
        {
          "output_type": "execute_result",
          "data": {
            "text/plain": [
              "matrix([[4.],\n",
              "        [2.],\n",
              "        [1.]])"
            ]
          },
          "metadata": {
            "tags": []
          },
          "execution_count": 48
        }
      ]
    },
    {
      "cell_type": "code",
      "metadata": {
        "id": "duhFQStqY2DR",
        "colab_type": "code",
        "outputId": "44928fdb-146f-418e-bff7-807d27f3c516",
        "colab": {
          "base_uri": "https://localhost:8080/",
          "height": 541
        }
      },
      "source": [
        "#car 1 location at (3,2) heading toward (3,3)\n",
        "#car 2 location at (-2, -3) heading toward (-1, -3)\n",
        "#  Have one car rotate by 180? degrees, and the other rotate by some other amount of degrees.\n",
        "\n",
        "ax = plt.axes()\n",
        "\n",
        "#car 1 old position:\n",
        "ax.arrow(2, 2, 1.0, 1.0, head_width=0.5, head_length=0.7, fc='lightblue', ec='black')\n",
        "#car 1 new position:\n",
        "ax.arrow(2, 2, 2.0, -1, head_width=0.5, head_length=0.7, fc='lightblue', ec='red')\n",
        "\n",
        "#car 2 old position:\n",
        "ax.arrow(2, 2, 2.0, -1, head_width=0.5, head_length=0.7, fc='lightblue', ec='red')\n",
        "#car 2 new position:\n",
        "ax.arrow(2, 2, 2.0, -1, head_width=0.5, head_length=0.7, fc='lightblue', ec='red')\n",
        "\n",
        "\n",
        "plt.grid()\n",
        "\n",
        "plt.xlim(-5,5)\n",
        "plt.ylim(-5,5)\n",
        "\n",
        "plt.title('Showing Car rotates 90 degrees ?',fontsize=10)\n",
        "\n",
        "plt.savefig('Showing Car rotates 90 degrees.png', bbox_inches='tight')\n",
        "plt.show()\n",
        "plt.close()\n",
        "\n",
        "#car 1 location at (3,2) heading toward (3,3)\n",
        "#car 2 location at (-2, -3) heading toward (-1, -3)\n",
        "#  Have one car rotate by 180? degrees, and the other rotate by some other amount of degrees.\n",
        "\n",
        "ax = plt.axes()\n",
        "\n",
        "#car 1 old position:\n",
        "ax.arrow(2, 2, 1.0, 1.0, head_width=0.5, head_length=0.7, fc='lightblue', ec='black')\n",
        "#car 1 new position:\n",
        "ax.arrow(-2, 2, 2.0, -1, head_width=0.5, head_length=0.7, fc='lightblue', ec='red')\n",
        "\n",
        "#car 2 old position:\n",
        "ax.arrow(2, 2, 2.0, -1, head_width=0.5, head_length=0.7, fc='lightblue', ec='red')\n",
        "#car 2 new position:\n",
        "ax.arrow(-2, 2, 2.0, -1, head_width=0.5, head_length=0.7, fc='lightblue', ec='red')\n",
        "\n",
        "\n",
        "plt.grid()\n",
        "\n",
        "plt.xlim(-5,5)\n",
        "plt.ylim(-5,5)\n",
        "\n",
        "plt.title('Showing Car rotates 90 degrees ?',fontsize=10)\n",
        "\n",
        "plt.savefig('Showing Car rotates 90 degrees.png', bbox_inches='tight')\n",
        "plt.show()\n",
        "plt.close()"
      ],
      "execution_count": 0,
      "outputs": [
        {
          "output_type": "display_data",
          "data": {
            "image/png": "[encoded data removed]",
            "text/plain": [
              "<Figure size 432x288 with 1 Axes>"
            ]
          },
          "metadata": {
            "tags": []
          }
        },
        {
          "output_type": "display_data",
          "data": {
            "image/png": "[encoded data removed]",
            "text/plain": [
              "<Figure size 432x288 with 1 Axes>"
            ]
          },
          "metadata": {
            "tags": []
          }
        }
      ]
    },
    {
      "cell_type": "code",
      "metadata": {
        "id": "X2lz-IhW4fCx",
        "colab_type": "code",
        "colab": {}
      },
      "source": [
        ""
      ],
      "execution_count": 0,
      "outputs": []
    },
    {
      "cell_type": "markdown",
      "metadata": {
        "id": "EwXluSqZZIDX",
        "colab_type": "text"
      },
      "source": [
        ""
      ]
    },
    {
      "cell_type": "markdown",
      "metadata": {
        "id": "9uiX7BiQkc4b",
        "colab_type": "text"
      },
      "source": [
        "# Putting the car in the garage.\n",
        "\n",
        "With the car starting at $(3,0)$ and pointing toward $(3,1)$, we want to make the car go to $(-2,-2)$ pointing toward $(-2,-3)$.\n",
        "\n",
        "Draw the car's route out on the whiteboard, making sure to note it's location at each corner.\n",
        "\n",
        "Then, iteratively apply the matrices constructed above to verify your sequence of matrices puts the car into the garage appropriately.\n",
        "\n",
        "You may want to generate a plot of the car's position and path using the plotting code given above.\n",
        "\n"
      ]
    },
    {
      "cell_type": "code",
      "metadata": {
        "id": "6rf8U2Bhk_wa",
        "colab_type": "code",
        "outputId": "30bf4616-5226-41fa-db13-e2d2185f7fc2",
        "colab": {
          "base_uri": "https://localhost:8080/",
          "height": 68
        }
      },
      "source": [
        "#car 1 location at (3,0) heading toward (3,1)\n",
        "#car 1 final location at (-2, -2) heading toward (-2, -3)\n",
        "\n",
        "car = location(3,0)\n",
        "light = location(3,1)\n",
        " \n",
        "T(0,1)*RabByPhi(-2,-3,90,T,R)*T(-2,0)*RabByPhi(0,-3,-90,T,R)*T(0,-3)*RabByPhi(0,0,90,T,R)*T(-3,0)*RabByPhi(3,0,90,T,R)*car\n",
        "\n",
        "#apply matrices in order to get the car and the light to the correct locations\n",
        "T(0,1)*RabByPhi(-2,-3,90,T,R)*T(-2,0)*RabByPhi(0,-3,-90,T,R)*T(0,-3)*RabByPhi(0,0,90,T,R)*T(-3,0)*RabByPhi(3,0,90,T,R)*light\n",
        "\n",
        "T(0,1)*RabByPhi(-2,-3,90,T,R)*T(-2,0)*RabByPhi(0,-3,-90,T,R)*T(0,-4)*RabByPhi(0,1,90,T,R)*T(-3,0)*RabByPhi(3,1,90,T,R)*T(0,1)*car\n",
        "\n",
        "T(0,1)*RabByPhi(-2,-3,90,T,R)*T(-2,0)*RabByPhi(0,-3,-90,T,R)*T(0,-4)*RabByPhi(0,1,90,T,R)*T(-3,0)*RabByPhi(3,1,90,T,R)*T(0,1)*light\n"
      ],
      "execution_count": 0,
      "outputs": [
        {
          "output_type": "execute_result",
          "data": {
            "text/plain": [
              "matrix([[-2.],\n",
              "        [-3.],\n",
              "        [ 1.]])"
            ]
          },
          "metadata": {
            "tags": []
          },
          "execution_count": 63
        }
      ]
    },
    {
      "cell_type": "markdown",
      "metadata": {
        "id": "sGRmNznBlAFL",
        "colab_type": "text"
      },
      "source": [
        "Once you have verified you've completed this task, create the single matrix from all of your transformations:\n"
      ]
    },
    {
      "cell_type": "code",
      "metadata": {
        "id": "aJCtEa3elH_w",
        "colab_type": "code",
        "outputId": "03f3e773-a268-43e5-b725-4128439a0206",
        "colab": {
          "base_uri": "https://localhost:8080/",
          "height": 68
        }
      },
      "source": [
        "#create the full matrix as either a function or as a multiplication of matrices\n",
        "\n",
        "#fullmatrix\n",
        "\n",
        "def fullMatrix(a,b, T, R):\n",
        "  \"\"\"Describe this matrix\"\"\"\n",
        "  # We have to pass in the T and R functions if we are going to use them in this function.\n",
        "  return T(a,b) * R(-90) * T(-a, -b)\n",
        "\n",
        "fullMatrix(3,0, T, R)\n",
        "\n",
        "T(0,1)*RabByPhi(-2,-3,90,T,R)*T(-2,0)*RabByPhi(0,-3,-90,T,R)*T(0,-3)*RabByPhi(0,0,90,T,R)*T(-3,0)*RabByPhi(3,0,90,T,R)\n",
        "\n",
        "#For my matrix, we want to make my car move up 1, turn 90 degrees, move left 3, rotate 90 degrees, move down 4, turn -90 degrees, move left 2, turn 90 degrees, and move up 1.\n",
        "\n",
        "MyMatrix = T(0,1)*RabByPhi(-2,-3,90,T,R)*T(-2,0)*RabByPhi(0,-3,-90,T,R)*T(0,-4)*RabByPhi(0,1,90,T,R)*T(-3,0)*RabByPhi(3,1,90,T,R)*T(0,1)\n",
        "MyMatrix"
      ],
      "execution_count": 0,
      "outputs": [
        {
          "output_type": "execute_result",
          "data": {
            "text/plain": [
              "matrix([[-1.0000000e+00, -1.2246468e-16,  1.0000000e+00],\n",
              "        [ 1.2246468e-16, -1.0000000e+00, -2.0000000e+00],\n",
              "        [ 0.0000000e+00,  0.0000000e+00,  1.0000000e+00]])"
            ]
          },
          "metadata": {
            "tags": []
          },
          "execution_count": 64
        }
      ]
    },
    {
      "cell_type": "code",
      "metadata": {
        "id": "oKnhjUqXCgDE",
        "colab_type": "code",
        "colab": {}
      },
      "source": [
        ""
      ],
      "execution_count": 0,
      "outputs": []
    }
  ]
}